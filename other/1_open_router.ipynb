{
 "cells": [
  {
   "cell_type": "markdown",
   "metadata": {},
   "source": [
    "# Open Router "
   ]
  },
  {
   "cell_type": "markdown",
   "metadata": {},
   "source": [
    "OpenRouter được cung cấp bởi OpenAI-compatible có tới 296 model để có thể gọi đến. OpenRouter cho phép sử dụng nhiều model chat cùng lúc, so sánh giữa các model chat về các thông số khác nhau như:\n",
    "- Prompt pricing: Giá trên 1 triệu token\n",
    "- Context length: Đồ dài ký tự nhập vào\n",
    "- Category: các ngàng đang sử dụng\n",
    "- Supported Parameters: các params khi gửi API\n",
    "OpenRouter còn có bảng xếp hạn các model và ứng dụng đang sử dụng model.\n",
    "OpenRouter giúp người dùng đặc biệt là người phát triển có thể sử dụng các model hiểu quả và tiết kiệm chi phí hơn\n"
   ]
  },
  {
   "cell_type": "markdown",
   "metadata": {},
   "source": [
    "Link trang chủ của open router: https://openrouter.ai/"
   ]
  },
  {
   "cell_type": "markdown",
   "metadata": {},
   "source": [
    "Tài liệu tham khảo:\n",
    "- Sử dụng hàng TRĂM mô hình AI chỉ với 1 tài khoản duy nhất! LLM MIỄN PHÍ - SIÊU RẺ - MÃ NGUỒN MỞ: https://www.youtube.com/watch?v=qtaScdiSSmc\n"
   ]
  }
 ],
 "metadata": {
  "language_info": {
   "name": "python"
  }
 },
 "nbformat": 4,
 "nbformat_minor": 2
}
