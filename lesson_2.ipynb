{
 "cells": [
  {
   "cell_type": "code",
   "execution_count": null,
   "metadata": {},
   "outputs": [],
   "source": [
    "# Lập trình Python cơ bản: https://www.youtube.com/watch?v=-B-Wu8ktaK4\n",
    "\"\"\"\n",
    "    Yêu cầu người dùng nhập vào 2 chuỗi ký tự bất kỳ\n",
    "    Kiểm tra xem chúng có phải là anagrams (phép đảo chữ) của nhau không?\n",
    "    Định nghĩa anagram: 2 từ là anagram của nhau nếu ta có thể thu được từ này bàng cách đổi vị trí các ký tự của từ kia.\n",
    "    Các ví dụ:\n",
    "    \"New York Times\" và \"monkeys write\"\n",
    "    \"coronavirus\" và \"carnivorous\"\n",
    "    \"a gentleman\" = \"elegant man\"\n",
    "    \"silent\" = \"listen\"\n",
    "\"\"\""
   ]
  },
  {
   "cell_type": "code",
   "execution_count": 5,
   "metadata": {},
   "outputs": [],
   "source": [
    "def are_anagrams(str1, str2):\n",
    "    str1 = str1.replace(\" \", \"\").lower()\n",
    "    str2 = str2.replace(\" \", \"\").lower()\n",
    "    \n",
    "    return sorted(str1) == sorted(str2)"
   ]
  },
  {
   "cell_type": "code",
   "execution_count": 7,
   "metadata": {},
   "outputs": [
    {
     "name": "stdout",
     "output_type": "stream",
     "text": [
      "newyorktimes monkeyswrite\n"
     ]
    },
    {
     "data": {
      "text/plain": [
       "True"
      ]
     },
     "execution_count": 7,
     "metadata": {},
     "output_type": "execute_result"
    }
   ],
   "source": [
    "are_anagrams(\"New York Times\", \"monkeys write\")"
   ]
  },
  {
   "cell_type": "code",
   "execution_count": 8,
   "metadata": {},
   "outputs": [
    {
     "name": "stdout",
     "output_type": "stream",
     "text": [
      "coronavirus carnivorous\n"
     ]
    },
    {
     "data": {
      "text/plain": [
       "True"
      ]
     },
     "execution_count": 8,
     "metadata": {},
     "output_type": "execute_result"
    }
   ],
   "source": [
    "are_anagrams(\"coronavirus\", \"carnivorous\")"
   ]
  },
  {
   "cell_type": "code",
   "execution_count": null,
   "metadata": {},
   "outputs": [],
   "source": [
    "\"\"\"\n",
    "    Viết 1 hàm nhận 2 tham số đầu vào là 2 chuỗi ký tự bất kỳ, hàm trả về 1 danh sách bao gồm các ký tự xuất hiện ở cả 2 chuỗi\n",
    "\"\"\""
   ]
  },
  {
   "cell_type": "code",
   "execution_count": 15,
   "metadata": {},
   "outputs": [],
   "source": [
    "def common_chars(str1, str2):\n",
    "    result = \"\"\n",
    "    for char1 in str1:\n",
    "        for char2 in str2:\n",
    "            if char1 == char2:\n",
    "                result += char1\n",
    "                str2 = str2.replace(char2, \"\")\n",
    "                \n",
    "    return result"
   ]
  },
  {
   "cell_type": "code",
   "execution_count": 16,
   "metadata": {},
   "outputs": [
    {
     "name": "stdout",
     "output_type": "stream",
     "text": [
      "skjfkdjfkd\n",
      "skjfkdjfkd\n",
      "skjfkdjfkd\n",
      "skjfkdjfkd\n",
      "skjfkdjfkd\n",
      "skjfkdjfkd\n",
      "skjfkdjfkd\n",
      "skjfkdjfkd\n",
      "skjfkdjfkd\n",
      "skjfkdjfkd\n",
      "skjfkdjfkd\n",
      "skjfkdjfkd\n",
      "skjfkdjfkd\n",
      "skjfkdjfkd\n",
      "skjfkdjfkd\n",
      "skjfkdjfkd\n",
      "skjfkdjfkd\n",
      "skjfkdjfkd\n",
      "skjfkdjfkd\n",
      "skjfkdjfkd\n",
      "skjfkdjfkd\n",
      "skjfkdjfkd\n",
      "skjfkdjfkd\n",
      "skjfkdjfkd\n",
      "skjfkdjfkd\n",
      "skjfkdjfkd\n",
      "skjfkdjfkd\n",
      "skjfkdjfkd\n",
      "skjfkdjfkd\n",
      "skjfkdjfkd\n",
      "skjfkdjfkd\n",
      "kjfkdjfkd\n",
      "kjfkdjfkd\n",
      "kjfkdjfkd\n",
      "kjfkdjfkd\n",
      "kjfkdjfkd\n",
      "kjfkdjfkd\n",
      "kjfkdjfkd\n",
      "kjfkdjfkd\n",
      "kjfkdjfkd\n",
      "kjfkdjfkd\n",
      "jfdjfd\n",
      "jfdjfd\n",
      "jfdjfd\n",
      "jfdjfd\n",
      "jfdjfd\n",
      "jfdjfd\n",
      "jfdjfd\n",
      "jfdjfd\n",
      "jfdjfd\n",
      "fdfd\n",
      "fdfd\n",
      "fdfd\n",
      "fdfd\n",
      "fdfd\n",
      "fdfd\n",
      "dd\n",
      "dd\n",
      "dd\n"
     ]
    },
    {
     "data": {
      "text/plain": [
       "'skkkjjff'"
      ]
     },
     "execution_count": 16,
     "metadata": {},
     "output_type": "execute_result"
    }
   ],
   "source": [
    "common_chars(\"abcskjf\", \"skjfkdjfkd\")"
   ]
  },
  {
   "cell_type": "code",
   "execution_count": null,
   "metadata": {},
   "outputs": [],
   "source": []
  },
  {
   "cell_type": "code",
   "execution_count": null,
   "metadata": {},
   "outputs": [],
   "source": []
  },
  {
   "cell_type": "code",
   "execution_count": null,
   "metadata": {},
   "outputs": [],
   "source": []
  },
  {
   "cell_type": "code",
   "execution_count": null,
   "metadata": {},
   "outputs": [],
   "source": []
  }
 ],
 "metadata": {
  "kernelspec": {
   "display_name": "Python 3",
   "language": "python",
   "name": "python3"
  },
  "language_info": {
   "codemirror_mode": {
    "name": "ipython",
    "version": 3
   },
   "file_extension": ".py",
   "mimetype": "text/x-python",
   "name": "python",
   "nbconvert_exporter": "python",
   "pygments_lexer": "ipython3",
   "version": "3.12.6"
  }
 },
 "nbformat": 4,
 "nbformat_minor": 2
}
