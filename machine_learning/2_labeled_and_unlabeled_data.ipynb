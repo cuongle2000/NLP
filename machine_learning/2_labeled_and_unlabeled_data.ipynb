{
 "cells": [
  {
   "cell_type": "markdown",
   "metadata": {},
   "source": [
    "## Labeled Data"
   ]
  },
  {
   "cell_type": "markdown",
   "metadata": {},
   "source": [
    "Dữ liệu có nhãn là dự liệu được gán nhãn hoặc phân loại, chỉ ra các sự thật hoặc phân loại dựa trên các điểm dữ liệu. Việc gán nhãn được thực hiện bởi con người. Dữ liệu có gán nhãn thường dùng cho bài toán học có giám sát.\n",
    "Dữ liệu là rất giá trị cho bài toán phân loại, hồi quy và nhận diên vật thể. Tuy nhiên, việc đánh nhãn dữ liệu đòi hỏi nhiều thời gian, công sức và yêu cầu người phải tham gia vào quá trình đánh nhãn dữ liệu."
   ]
  },
  {
   "cell_type": "markdown",
   "metadata": {},
   "source": [
    "## Unlabeled Data"
   ]
  },
  {
   "cell_type": "markdown",
   "metadata": {},
   "source": [
    "Dự liệu không có nhãn là dữ liệu không bất kỳ nhãn hay loại nào được gán cho dữ liệu. Thường được dùng cho bài toán học không giám sát. Model phải học từ những cấu trúc vốn có của dự liệu hoặc những điều bất thường"
   ]
  },
  {
   "cell_type": "markdown",
   "metadata": {},
   "source": [
    "Tài liệu tham khảo: \n",
    "- What is the difference between labeled and unlabeled data?: https://www.geeksforgeeks.org/what-is-the-difference-between-labeled-and-unlabeled-data/"
   ]
  }
 ],
 "metadata": {
  "language_info": {
   "name": "python"
  }
 },
 "nbformat": 4,
 "nbformat_minor": 2
}
